{
 "cells": [
  {
   "cell_type": "markdown",
   "metadata": {},
   "source": [
    "## t-SNE Application to European Electricity Generation\n",
    "\n",
    "An application of t-SNE to European countries' electricity and heat generation data, to cluster countries visually, according to their energy mix.\n",
    "\n",
    "Data source: Eurostat"
   ]
  },
  {
   "cell_type": "code",
   "execution_count": 1,
   "metadata": {},
   "outputs": [],
   "source": [
    "import pandas as pd\n",
    "from sklearn.manifold import TSNE\n",
    "import numpy as np\n",
    "import plotly.plotly as py\n",
    "import plotly.graph_objs as go"
   ]
  },
  {
   "cell_type": "code",
   "execution_count": 2,
   "metadata": {},
   "outputs": [],
   "source": [
    "# Import processed data\n",
    "df = pd.read_csv('data/processed_data.csv')\n",
    "df =  df.rename(columns = {'Unnamed: 0': 'Code'})\n",
    "# Import country codes\n",
    "cc = pd.read_excel('data/countrycodes.xlsx')"
   ]
  },
  {
   "cell_type": "code",
   "execution_count": 3,
   "metadata": {},
   "outputs": [],
   "source": [
    "# Merge country info onto dataframe\n",
    "df = df.merge(cc, on='Code', how='left')"
   ]
  },
  {
   "cell_type": "code",
   "execution_count": 4,
   "metadata": {},
   "outputs": [
    {
     "data": {
      "text/html": [
       "<div>\n",
       "<style scoped>\n",
       "    .dataframe tbody tr th:only-of-type {\n",
       "        vertical-align: middle;\n",
       "    }\n",
       "\n",
       "    .dataframe tbody tr th {\n",
       "        vertical-align: top;\n",
       "    }\n",
       "\n",
       "    .dataframe thead th {\n",
       "        text-align: right;\n",
       "    }\n",
       "</style>\n",
       "<table border=\"1\" class=\"dataframe\">\n",
       "  <thead>\n",
       "    <tr style=\"text-align: right;\">\n",
       "      <th></th>\n",
       "      <th>Code</th>\n",
       "      <th>Solid fossil fuels</th>\n",
       "      <th>Manufactured gases</th>\n",
       "      <th>Peat and peat products</th>\n",
       "      <th>Oil shale and oil sands</th>\n",
       "      <th>Oil and petroleum products</th>\n",
       "      <th>Natural gas</th>\n",
       "      <th>Renewables and biofuels</th>\n",
       "      <th>Nuclear heat</th>\n",
       "      <th>total</th>\n",
       "      <th>Country</th>\n",
       "      <th>Region</th>\n",
       "    </tr>\n",
       "  </thead>\n",
       "  <tbody>\n",
       "    <tr>\n",
       "      <th>0</th>\n",
       "      <td>PT</td>\n",
       "      <td>0.340511</td>\n",
       "      <td>0.000000</td>\n",
       "      <td>0.0</td>\n",
       "      <td>0.0</td>\n",
       "      <td>0.026388</td>\n",
       "      <td>0.351867</td>\n",
       "      <td>0.281234</td>\n",
       "      <td>0.000000</td>\n",
       "      <td>9504.878469</td>\n",
       "      <td>Portugal</td>\n",
       "      <td>S Europe</td>\n",
       "    </tr>\n",
       "    <tr>\n",
       "      <th>1</th>\n",
       "      <td>ME</td>\n",
       "      <td>0.753639</td>\n",
       "      <td>0.000000</td>\n",
       "      <td>0.0</td>\n",
       "      <td>0.0</td>\n",
       "      <td>0.000000</td>\n",
       "      <td>0.000000</td>\n",
       "      <td>0.246361</td>\n",
       "      <td>0.000000</td>\n",
       "      <td>391.215320</td>\n",
       "      <td>Montenegro</td>\n",
       "      <td>C&amp;E Europe</td>\n",
       "    </tr>\n",
       "    <tr>\n",
       "      <th>2</th>\n",
       "      <td>LV</td>\n",
       "      <td>0.002322</td>\n",
       "      <td>0.000000</td>\n",
       "      <td>0.0</td>\n",
       "      <td>0.0</td>\n",
       "      <td>0.000712</td>\n",
       "      <td>0.404943</td>\n",
       "      <td>0.592023</td>\n",
       "      <td>0.000000</td>\n",
       "      <td>1588.107010</td>\n",
       "      <td>Latvia</td>\n",
       "      <td>N Europe</td>\n",
       "    </tr>\n",
       "    <tr>\n",
       "      <th>3</th>\n",
       "      <td>HU</td>\n",
       "      <td>0.149060</td>\n",
       "      <td>0.020058</td>\n",
       "      <td>0.0</td>\n",
       "      <td>0.0</td>\n",
       "      <td>0.003234</td>\n",
       "      <td>0.242202</td>\n",
       "      <td>0.101624</td>\n",
       "      <td>0.483822</td>\n",
       "      <td>8441.117178</td>\n",
       "      <td>Hungary</td>\n",
       "      <td>C&amp;E Europe</td>\n",
       "    </tr>\n",
       "    <tr>\n",
       "      <th>4</th>\n",
       "      <td>BG</td>\n",
       "      <td>0.504866</td>\n",
       "      <td>0.000000</td>\n",
       "      <td>0.0</td>\n",
       "      <td>0.0</td>\n",
       "      <td>0.014892</td>\n",
       "      <td>0.074904</td>\n",
       "      <td>0.051769</td>\n",
       "      <td>0.353568</td>\n",
       "      <td>11145.509744</td>\n",
       "      <td>Bulgaria</td>\n",
       "      <td>C&amp;E Europe</td>\n",
       "    </tr>\n",
       "  </tbody>\n",
       "</table>\n",
       "</div>"
      ],
      "text/plain": [
       "  Code  Solid fossil fuels  Manufactured gases  Peat and peat products  \\\n",
       "0   PT            0.340511            0.000000                     0.0   \n",
       "1   ME            0.753639            0.000000                     0.0   \n",
       "2   LV            0.002322            0.000000                     0.0   \n",
       "3   HU            0.149060            0.020058                     0.0   \n",
       "4   BG            0.504866            0.000000                     0.0   \n",
       "\n",
       "   Oil shale and oil sands  Oil and petroleum products  Natural gas  \\\n",
       "0                      0.0                    0.026388     0.351867   \n",
       "1                      0.0                    0.000000     0.000000   \n",
       "2                      0.0                    0.000712     0.404943   \n",
       "3                      0.0                    0.003234     0.242202   \n",
       "4                      0.0                    0.014892     0.074904   \n",
       "\n",
       "   Renewables and biofuels  Nuclear heat         total     Country      Region  \n",
       "0                 0.281234      0.000000   9504.878469    Portugal    S Europe  \n",
       "1                 0.246361      0.000000    391.215320  Montenegro  C&E Europe  \n",
       "2                 0.592023      0.000000   1588.107010      Latvia    N Europe  \n",
       "3                 0.101624      0.483822   8441.117178     Hungary  C&E Europe  \n",
       "4                 0.051769      0.353568  11145.509744    Bulgaria  C&E Europe  "
      ]
     },
     "execution_count": 4,
     "metadata": {},
     "output_type": "execute_result"
    }
   ],
   "source": [
    "df.head()"
   ]
  },
  {
   "cell_type": "code",
   "execution_count": 5,
   "metadata": {},
   "outputs": [],
   "source": [
    "# Apply t-SNE to data\n",
    "tsne = TSNE(perplexity = 20, learning_rate = 10, n_iter = 5000).fit_transform(df.iloc[:,1:9])\n",
    "# Add results as columns in dataframe\n",
    "df[['tsne1', 'tsne2']] = pd.DataFrame(tsne)"
   ]
  },
  {
   "cell_type": "code",
   "execution_count": 6,
   "metadata": {},
   "outputs": [],
   "source": [
    "# Add column with text to display in plot\n",
    "df['text'] = '<b>'+df['Country'].astype('str') + '</b><br>' + 'Solid fossil fuels: ' + (df['Solid fossil fuels']*100).round().astype('str') + '%' \\\n",
    "                                         + '<br>' + 'Manufactured gases: ' + (df['Manufactured gases']*100).round().astype('str') + '%'\\\n",
    "                                         + '<br>' + 'Peat and peat products: ' + (df['Peat and peat products']*100).round().astype('str') + '%' \\\n",
    "                                         + '<br>' + 'Oil shale and oil sands: ' + (df['Oil shale and oil sands']*100).round().astype('str') + '%' \\\n",
    "                                         + '<br>' + 'Oil and petroleum products: ' + (df['Oil and petroleum products']*100).round().astype('str') +  '%'\\\n",
    "                                         + '<br>' + 'Natural gas: ' + (df['Natural gas']*100).round().astype('str') + '%'\\\n",
    "                                         + '<br>' + 'Renewables and biofuels: ' + (df['Renewables and biofuels']*100).round().astype('str') + '%'\\\n",
    "                                         + '<br>' + 'Nuclear heat: ' + (df['Nuclear heat']*100).round().astype('str') + '%'\\"
   ]
  },
  {
   "cell_type": "code",
   "execution_count": 9,
   "metadata": {},
   "outputs": [
    {
     "data": {
      "text/plain": [
       "'https://plot.ly/~sam.maule/118'"
      ]
     },
     "execution_count": 9,
     "metadata": {},
     "output_type": "execute_result"
    }
   ],
   "source": [
    "# Create plotly plot\n",
    "data = []\n",
    "\n",
    "for region in df['Region'].unique():\n",
    "    mask = df['Region'] == region\n",
    "    trace = go.Scatter(x = df.loc[mask, 'tsne1'],\n",
    "                y = df.loc[mask, 'tsne2'],\n",
    "                name = region,\n",
    "                mode = 'markers',\n",
    "                marker = {'size': df.loc[mask,'total']/1100,\n",
    "                        'opacity': 0.9,\n",
    "                        'colorscale': 'Portland'\n",
    "                       },\n",
    "                     hoverinfo = 'text',\n",
    "                       text = df.loc[mask,'text'])\n",
    "    data.append(trace)\n",
    "    \n",
    "layout= go.Layout(\n",
    "    title= 'European Electricity Energy Mix: t-SNE representation',\n",
    "    hovermode= 'closest',\n",
    "\n",
    "    xaxis = dict(\n",
    "        zeroline= False,\n",
    "        mirror = True,\n",
    "        showline=True,\n",
    "        showticklabels=False,\n",
    "        showgrid=False\n",
    "    ),\n",
    "    yaxis= dict(\n",
    "        zeroline= False,\n",
    "        mirror = True,\n",
    "        showline=True,\n",
    "        showticklabels=False,\n",
    "        showgrid=False\n",
    "    ),\n",
    "    showlegend= True\n",
    ")\n",
    "\n",
    "fig = go.Figure(data = data, layout = layout)\n",
    "py.plot(fig, filename='europe_electricity_tsne', auto_open=True)"
   ]
  }
 ],
 "metadata": {
  "kernelspec": {
   "display_name": "Python 3",
   "language": "python",
   "name": "python3"
  },
  "language_info": {
   "codemirror_mode": {
    "name": "ipython",
    "version": 3
   },
   "file_extension": ".py",
   "mimetype": "text/x-python",
   "name": "python",
   "nbconvert_exporter": "python",
   "pygments_lexer": "ipython3",
   "version": "3.6.8"
  }
 },
 "nbformat": 4,
 "nbformat_minor": 2
}
